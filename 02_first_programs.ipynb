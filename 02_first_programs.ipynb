{
 "cells": [
  {
   "cell_type": "markdown",
   "id": "671c2c7630933fc1",
   "metadata": {},
   "source": [
    "# Computer Programming"
   ]
  },
  {
   "cell_type": "markdown",
   "id": "dd96399124debccd",
   "metadata": {},
   "source": [
    "## Programs 1: The First Programs\n",
    "\n",
    "These programs will introduce you to some simple, but important, concepts in programming. Most only require a few lines of code, but they will introduce you to the basic concepts of input and output, and how to use variables in a program.\n",
    "\n",
    "At this point we are only concerned with the _Happy Path_ of programming, where everything works as expected. We will not yet consider what happens if the user does not enter the expected input, or if the program encounters an error. So always assume that your user will enter the correct input, and that your program should then run without any errors. (This is a rather big assumption, but let's\n",
    "run with it for now)."
   ]
  },
  {
   "cell_type": "markdown",
   "id": "21e3f8878cbad7fb",
   "metadata": {},
   "source": [
    "Once you have finished, remember to `add` and `commit` your new file to your Git repository, and then `push` it to GitHub. As a reminder, enter below here the Git commands that you will need to do this. (These commands should also be in your previous notebooks.)\n",
    "\n",
    "_Note: You will probably find that your IDE has some point-and-click way to do this. Feel free to use it, but you're on your own there._"
   ]
  },
  {
   "cell_type": "markdown",
   "id": "651b2ec1950e48a6",
   "metadata": {},
   "source": [
    "\n",
    "# $ git add\n",
    "\n",
    "# $ git commit\n",
    "\n",
    "# $ git push"
   ]
  },
  {
   "cell_type": "markdown",
   "id": "33cba645",
   "metadata": {},
   "source": [
    "## Practice\n",
    "\n",
    "To complete the programs below, you will need two Python `functions` and some basic mathematical operators. Edit each\n",
    "Markdown cell here, and add some examples that answer the questions. If you prefer to add a new cell below each question, that's fine. Up to you."
   ]
  },
  {
   "cell_type": "markdown",
   "id": "9d9b6091",
   "metadata": {},
   "source": "What is the Python function to display values?_  print()"
  },
  {
   "cell_type": "markdown",
   "id": "835d95c8",
   "metadata": {},
   "source": [
    "_And what function allows a program to read what the user enters with the keyboard?_  input()\n",
    "\n",
    "_What data type is always returned by this function?_  string"
   ]
  },
  {
   "cell_type": "markdown",
   "id": "e8ead781",
   "metadata": {},
   "source": "_What functions convert the value entered into numeric values? (There are two.)_ int() and float()"
  },
  {
   "cell_type": "markdown",
   "id": "088fd0e8",
   "metadata": {},
   "source": "_List the operators (the symbols) that work with numeric values - addition, subtraction, division, modulus, multiplication._  *,+,-,%,/,**"
  },
  {
   "cell_type": "markdown",
   "id": "c9e52021",
   "metadata": {},
   "source": [
    "_Where operators are combined in a sequence (for example as in `2 + 3 * 2`), in what order are they applied?_\n",
    "1. ()\n",
    "2. (*)\n",
    "3. (+)"
   ]
  },
  {
   "cell_type": "markdown",
   "id": "703cb88c",
   "metadata": {},
   "source": [
    "_There are many ways of combining numbers and strings in some output. The neatest is an `f-string`. Make a code block\n",
    "below and add some examples of `f-string`s._\n",
    "\n",
    "_Include an f-string that displays a floating-point number with two decimal places._"
   ]
  },
  {
   "metadata": {
    "ExecuteTime": {
     "end_time": "2025-10-15T20:51:20.136706Z",
     "start_time": "2025-10-15T20:51:20.132388Z"
    }
   },
   "cell_type": "code",
   "source": [
    "user_name = \"Stacy\"\n",
    "user_email = \"stacy37327@gmqail.com\"\n",
    "print(f\"Hi, {user_name}, this is your new email: {user_email}.\")"
   ],
   "id": "d170acd0cbdd78e5",
   "outputs": [
    {
     "name": "stdout",
     "output_type": "stream",
     "text": [
      "Hi, Stacy, this is your new email: stacy37327@gmqail.com.\n"
     ]
    }
   ],
   "execution_count": 1
  },
  {
   "metadata": {},
   "cell_type": "markdown",
   "source": [
    "Remember you can try all these out in the Notebook, or at the Python Interpreter.\n",
    "\n",
    "_Add more examples here if you want. Add anything you want that will help you remember!_"
   ],
   "id": "31e8eac14274aa3d"
  },
  {
   "metadata": {},
   "cell_type": "markdown",
   "source": [
    "## The Programs\n",
    "\n",
    "Now for the complete programs. Work through these one at a time. Remember you can run them from inside the Notebook."
   ],
   "id": "7251495a9fdfd3a"
  },
  {
   "metadata": {},
   "cell_type": "markdown",
   "source": "_The first program traditionally consists of a few lines that print a cheery message such as \"Hello, World\" on the screen. In the empty code block below here, enter and run that program. In Python, you need just one line._",
   "id": "8dc2d2a50bbfbdb2"
  },
  {
   "metadata": {
    "ExecuteTime": {
     "end_time": "2025-10-15T20:55:42.657671Z",
     "start_time": "2025-10-15T20:55:42.654862Z"
    }
   },
   "cell_type": "code",
   "source": "print('Hello, World!')",
   "id": "b2108ce41fc8b1ff",
   "outputs": [
    {
     "name": "stdout",
     "output_type": "stream",
     "text": [
      "Hello, World!\n"
     ]
    }
   ],
   "execution_count": 3
  },
  {
   "metadata": {},
   "cell_type": "markdown",
   "source": "_Create another code block below here, enter (and run) a program that prints out two separate messages, on two lines._",
   "id": "32a121d0ecb4ee07"
  },
  {
   "metadata": {
    "ExecuteTime": {
     "end_time": "2025-10-15T20:55:35.792850Z",
     "start_time": "2025-10-15T20:55:35.789772Z"
    }
   },
   "cell_type": "code",
   "source": [
    "print('hi , my name is \"Fedir\"')\n",
    "print('my surname is \"Khancha\"')"
   ],
   "id": "372909184b327d83",
   "outputs": [
    {
     "name": "stdout",
     "output_type": "stream",
     "text": [
      "hi , my name is \"Fedir\"\n",
      "my surname is \"Khancha\"\n"
     ]
    }
   ],
   "execution_count": 2
  },
  {
   "metadata": {},
   "cell_type": "markdown",
   "source": [
    "## Challenge\n",
    "\n",
    "_Can you work out how to print two messages, **on the same line**? Google it! Add the code in the code block below here._"
   ],
   "id": "e9c3e33aef33aa45"
  },
  {
   "metadata": {
    "ExecuteTime": {
     "end_time": "2025-10-15T20:56:15.310009Z",
     "start_time": "2025-10-15T20:56:15.307475Z"
    }
   },
   "cell_type": "code",
   "source": [
    "print('Hello, ', end='')\n",
    "print('World!')"
   ],
   "id": "7326175c91b10fad",
   "outputs": [
    {
     "name": "stdout",
     "output_type": "stream",
     "text": [
      "Hello, World!\n"
     ]
    }
   ],
   "execution_count": 4
  },
  {
   "metadata": {},
   "cell_type": "markdown",
   "source": [
    "_The second program expands on this, and asks the user to enter their name, so that the cheery greeting can be customised. Enter that program below (you may well have seen it recently in a lecture), and run it._\n",
    "\n",
    "_Hint: Use an `f-string`._"
   ],
   "id": "fc4e191d22c10b58"
  },
  {
   "metadata": {
    "ExecuteTime": {
     "end_time": "2025-10-15T21:06:37.203238Z",
     "start_time": "2025-10-15T21:06:32.667810Z"
    }
   },
   "cell_type": "code",
   "source": [
    "name = input('Hello! What is your name? ')\n",
    "print(f'Hello, {name} It is good to meet you!')"
   ],
   "id": "18f801fa19e98ee2",
   "outputs": [
    {
     "name": "stdout",
     "output_type": "stream",
     "text": [
      "Hello, Fedir\n",
      " It is good to meet you!\n"
     ]
    }
   ],
   "execution_count": 6
  },
  {
   "metadata": {},
   "cell_type": "markdown",
   "source": "_The function used in Python to get `input` from the user always reads a string. If a number value is required, it must be converted - this is usually done as it is read. Add a program below that asks the user for a number (an integer will be best), and then prints the square of that number. (Do not worry that the program might fail if the user does not enter a number.) This can be done in two lines._",
   "id": "90d3a60c2083c918"
  },
  {
   "metadata": {
    "ExecuteTime": {
     "end_time": "2025-10-16T09:48:22.675939Z",
     "start_time": "2025-10-16T09:48:17.601165Z"
    }
   },
   "cell_type": "code",
   "source": [
    "number = int(input('Enter a number: '))\n",
    "print(f' square of {number} is {number * number}.')"
   ],
   "id": "a8e751f08b04fbcf",
   "outputs": [
    {
     "name": "stdout",
     "output_type": "stream",
     "text": [
      " square of -5 is 25.\n"
     ]
    }
   ],
   "execution_count": 1
  },
  {
   "metadata": {},
   "cell_type": "markdown",
   "source": [
    "_The popular game of [Cricket](https://en.wikipedia.org/wiki/Cricket) yields many interesting statistics._\n",
    "\n",
    "_In some matches a team is given a certain number of \"overs\" in which to score runs. Write a program that asks the user to enter the number of runs scored by a team, and the number of overs they have used. It should then display the team's \"run rate\", which is the number of runs scored per over. (Again, do not worry about what happens if the user does not enter a valid number.)_\n",
    "\n",
    "_The result will be a floating point number, so you should format it to two decimal places when displaying it._"
   ],
   "id": "e7469e828e0ad9ec"
  },
  {
   "metadata": {
    "ExecuteTime": {
     "end_time": "2025-10-16T09:48:45.007283Z",
     "start_time": "2025-10-16T09:48:30.726337Z"
    }
   },
   "cell_type": "code",
   "source": [
    "runs = int(input('How many runs scored? '))\n",
    "overs = int(input('How many overs used? '))\n",
    "\n",
    "print(f'Run rate: {runs / overs:.2f} runs per over.')"
   ],
   "id": "2dcead2f1ecd41ff",
   "outputs": [
    {
     "name": "stdout",
     "output_type": "stream",
     "text": [
      "Run rate: 1.50 runs per over.\n"
     ]
    }
   ],
   "execution_count": 2
  },
  {
   "metadata": {},
   "cell_type": "markdown",
   "source": [
    "_Another interesting statistic is a batter's average score. This is the number of runs they score, averaged over the number of times they have been out. Sometimes a batter is not out, so this calculation needs three numbers: the number of runs scored, the number of times out (or the total number of times batted), and the number of times not out. Write a program that asks the user for these three numbers, and then displays the average score._\n",
    "\n",
    "_The Happy Path here is that a batter has been out at least once. Otherwise they have no average. As usual, you can ignore this possibility for now, and assume that the user will enter valid numbers._\n",
    "\n",
    "_Again, the result will be a floating point number, so you should format it to two decimal places when displaying it._"
   ],
   "id": "daa72a479003b1c7"
  },
  {
   "metadata": {
    "ExecuteTime": {
     "end_time": "2025-10-16T09:49:14.227598Z",
     "start_time": "2025-10-16T09:49:06.634310Z"
    }
   },
   "cell_type": "code",
   "source": [
    "total_bats = int(input('Total times batted: '))\n",
    "not_outs = int(input('Times not out: '))\n",
    "runs = int(input('Total runs scored: '))\n",
    "\n",
    "average = runs / (total_bats - not_outs)\n",
    "\n",
    "print(f'Average score: {average:.2f} runs.')"
   ],
   "id": "77c5c54500e239d2",
   "outputs": [
    {
     "name": "stdout",
     "output_type": "stream",
     "text": [
      "Average score: 5.00 runs.\n"
     ]
    }
   ],
   "execution_count": 3
  },
  {
   "metadata": {},
   "cell_type": "markdown",
   "source": [
    "_In a programming course, student receives two marks, both out of 100. The first is for a set of programs, and is worth 60% of the assessment. The second is an exam, worth the remaining 40%._\n",
    "\n",
    "_Add below a program that allows a user to enter these two marks, and displays the student's final grade. You can assume the \"Happy Path\" as usual, but remember that all course results are integers, so you will need to round the result to the nearest integer._\n",
    "\n",
    "_Hint: An easy way to do the rounding is to add 0.5, and take the integer part of the result. An even easier way would\n",
    "be to ask your tutor for a hint about the built-in way to do this!_"
   ],
   "id": "1b898e1786422b1a"
  },
  {
   "metadata": {
    "ExecuteTime": {
     "end_time": "2025-10-16T09:52:48.093706Z",
     "start_time": "2025-10-16T09:52:37.007828Z"
    }
   },
   "cell_type": "code",
   "source": [
    "set_of_programs_mark = int(input('Enter your programms mark: '))\n",
    "exam_mark = int(input('Enter your exam mark: '))\n",
    "\n",
    "final_mark = int((set_of_programs_mark * 0.4) + (exam_mark * 0.6) + 0.5)\n",
    "print(f'Your final mark is: {final_mark}')"
   ],
   "id": "3c913d5498501dc6",
   "outputs": [
    {
     "name": "stdout",
     "output_type": "stream",
     "text": [
      "Your final mark is: 78\n"
     ]
    }
   ],
   "execution_count": 5
  },
  {
   "metadata": {},
   "cell_type": "markdown",
   "source": [
    "_Suppose you need to arrange transport for a group of friends to a party. You need to organise taxis, each of which can take four passengers. Write here a program that takes the number of friends to transport, and displays the number of taxis needed._\n",
    "\n",
    "_Follow the Happy Path as usual. Remember that you cannot book part of a taxi, and that you do not want to leave anyone at home! So you need to round **up**._\n",
    "\n",
    "_Hint: This is quite tricky with basic arithmetic. A Google will take you to some ideas, or you can always ask your tutor!_"
   ],
   "id": "706a315d276f4794"
  },
  {
   "metadata": {
    "ExecuteTime": {
     "end_time": "2025-10-16T10:04:29.295755Z",
     "start_time": "2025-10-16T10:04:26.053503Z"
    }
   },
   "cell_type": "code",
   "source": [
    "import math\n",
    "\n",
    "number_of_friends = int(input('How many friends to transport? '))\n",
    "\n",
    "number_of_taxis =math.ceil(number_of_friends / 4)\n",
    "\n",
    "print(f'You need {number_of_taxis} taxi(s) to transport your friends.')"
   ],
   "id": "7b967901819818e1",
   "outputs": [
    {
     "name": "stdout",
     "output_type": "stream",
     "text": [
      "You need 3 taxi(s) to transport your friends.\n"
     ]
    }
   ],
   "execution_count": 7
  },
  {
   "metadata": {},
   "cell_type": "markdown",
   "source": [
    "_A sweet shop sells three types of chocolate: Frodo Bars at 50p, Twux at 75p, and Snookers at 95p. Write a program that asks the user to enter how many of each bar have been purchased, and then prints out the total price._\n",
    "\n",
    "_The price should be displayed in \"pounds and pence\". Asking for, say, \"150p\" makes no sense!_"
   ],
   "id": "15c0cb6287f69bc5"
  },
  {
   "metadata": {
    "ExecuteTime": {
     "end_time": "2025-10-16T10:37:13.924486Z",
     "start_time": "2025-10-16T10:37:00.118791Z"
    }
   },
   "cell_type": "code",
   "source": [
    "frodo_bars = 0.50\n",
    "twux = 0.75\n",
    "snookers = 0.95\n",
    "frodo_burs_q = int(input(\"How many frodo bars did you buy: \"))\n",
    "twux_q = int(input(\"How many twux bars did you buy: \"))\n",
    "snookers_q = int(input(\"How many snookers did you buy: \"))\n",
    "total_p = float(frodo_burs_q * frodo_bars + twux_q * twux  + snookers_q * snookers)\n",
    "print(f'your total is {total_p:.2f}£')"
   ],
   "id": "9f394dd35a91823a",
   "outputs": [
    {
     "name": "stdout",
     "output_type": "stream",
     "text": [
      "your total is 66.65£\n"
     ]
    }
   ],
   "execution_count": 11
  },
  {
   "metadata": {},
   "cell_type": "markdown",
   "source": [
    "## Reflection\n",
    "\n",
    "Before you file these programs away, take a look over them and see what patterns you can spot.\n",
    "\n",
    "Some of the programs are basically the same, just with the scenario changed. That is how programming works - it's about spotting a pattern in a new problem and then applying the solution that you've seen before.\n",
    "\n",
    "Next we'll apply the same ideas, again in different scenarios."
   ],
   "id": "390fa2db7959535"
  }
 ],
 "metadata": {
  "kernelspec": {
   "display_name": "venv",
   "language": "python",
   "name": "python3"
  },
  "language_info": {
   "codemirror_mode": {
    "name": "ipython",
    "version": 3
   },
   "file_extension": ".py",
   "mimetype": "text/x-python",
   "name": "python",
   "nbconvert_exporter": "python",
   "pygments_lexer": "ipython3",
   "version": "3.13.7"
  }
 },
 "nbformat": 4,
 "nbformat_minor": 5
}
