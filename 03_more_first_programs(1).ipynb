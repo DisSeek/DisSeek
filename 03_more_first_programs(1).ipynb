{
 "cells": [
  {
   "cell_type": "markdown",
   "id": "671c2c7630933fc1",
   "metadata": {},
   "source": [
    "# Computer Programming"
   ]
  },
  {
   "cell_type": "markdown",
   "id": "dd96399124debccd",
   "metadata": {},
   "source": [
    "## Programs 2: Getting it Right\n",
    "\n",
    "These programs build on the previos notebook, and provide more practice.\n",
    "\n",
    "Remember that we are only concerned with the \"Happy Path\" at the moment. As you work through these examples, keep in mind that \"programs are read much more often than they are written\". So, have you chosen good names for your values? Have you left blank lines to show layout? If it comes to that, have you provided prompts that make it obvious what the user should do?"
   ]
  },
  {
   "cell_type": "markdown",
   "id": "21e3f8878cbad7fb",
   "metadata": {},
   "source": [
    "Once you have finished, remember to `add` and `commit` your new file to your Git repository, and then `push` it to GitHub."
   ]
  },
  {
   "cell_type": "markdown",
   "id": "33cba645",
   "metadata": {},
   "source": [
    "## Practice\n",
    "\n",
    "First here are some questions to check your knowledge. If you don't know, you can Google, ask the person sat next to you, or even ask your friendly tutor. Edit the Markdown as usual (or insert new cells if you prefer - up to you)."
   ]
  },
  {
   "cell_type": "markdown",
   "id": "6dd331926c243bf1",
   "metadata": {},
   "source": [
    "_Values in Python should usually be named in \"lower snake case\". What does this mean? Include some examples._\n",
    "my_name , my_age , user_email. variables that you can change should be putted as NOT capital letters and without spaces."
   ]
  },
  {
   "cell_type": "markdown",
   "id": "b721fa96f71c911b",
   "metadata": {},
   "source": [
    "_But some values will be named in \"SCREAMING SNAKE CASE\". Really. That's what it's called. What does this tell us about the value?_\n",
    "fixed values that should not be changed\n"
   ]
  },
  {
   "cell_type": "markdown",
   "id": "9de0bb98e4250ae5",
   "metadata": {},
   "source": [
    "_Jot down three, or four, factors that should be considered when choosing a name for a value._\n",
    "\n",
    "1.Understandable name or at least comment with explanation\n",
    "2.Should not start with number or spec. character\n",
    "3.Don't use names which are python commands as well"
   ]
  },
  {
   "cell_type": "markdown",
   "id": "9d9b6091",
   "metadata": {},
   "source": [
    "_Should you add a space before the bracket after a `print` command? Why?_\n",
    "because print() is a function, and with a space its not gonna work properly"
   ]
  },
  {
   "cell_type": "markdown",
   "id": "835d95c8",
   "metadata": {},
   "source": [
    "_What about spaces around an expression? `2 + 2` or `2+2`?_\n",
    "2 + 2 is correct because of PEP 8 style guide"
   ]
  },
  {
   "cell_type": "markdown",
   "id": "e8ead781",
   "metadata": {},
   "source": [
    "_What purpose does a blank line serve in a Python program?_\n",
    "for better readability"
   ]
  },
  {
   "cell_type": "markdown",
   "id": "088fd0e8",
   "metadata": {},
   "source": [
    "_What should be on the last line of every Python program?_\n",
    "blank line"
   ]
  },
  {
   "cell_type": "markdown",
   "id": "c9e52021",
   "metadata": {},
   "source": [
    "_What is a program comment? Why are these almost always best avoided?_\n",
    "because code should be understandable even without comments.comments are usually short explanation of code which is ignoring by program but still visible in your code"
   ]
  },
  {
   "cell_type": "markdown",
   "id": "703cb88c",
   "metadata": {},
   "source": [
    "_Python programmers often refer to `PEP-8`, a much revered document. What is it? (Google is your friend here.)_\n",
    "this is pyhton programs standard"
   ]
  },
  {
   "cell_type": "markdown",
   "id": "633b36cd",
   "metadata": {},
   "source": [
    "_Suppose you write a program, and the person sat next to you writes the same program. Assuming both work, would they be exactly the same? Why (not)?_\n",
    "because everyone has a different way of thinking , for example it's impossible for two persons make the same name for variables"
   ]
  },
  {
   "cell_type": "markdown",
   "id": "d842e63b0352faef",
   "metadata": {},
   "source": "_AI-generated program code is very easy to spot. Can you work out any features it might have that makes this so?_ too many comments,blank lines.Luck of human \"way of thinking\""
  },
  {
   "cell_type": "markdown",
   "id": "1fda1561a2033443",
   "metadata": {},
   "source": [
    "As usual, feel free to add any other notes here that you might find useful."
   ]
  },
  {
   "cell_type": "markdown",
   "id": "e02765c2",
   "metadata": {},
   "source": [
    "## The Programs\n",
    "\n",
    "Now for the complete programs. Work through these one at a time. Remember you can run them from inside the Notebook."
   ]
  },
  {
   "cell_type": "markdown",
   "id": "c1472ef10ed28518",
   "metadata": {},
   "source": [
    "_Suppose you purchase a 10 inch pizza. How many square *centimetres* of pizza do you have? Write a program below to find out. Remember that 10 inches is the diameter of the pizza._"
   ]
  },
  {
   "cell_type": "code",
   "id": "dbec81df0f135935",
   "metadata": {
    "ExecuteTime": {
     "end_time": "2025-10-16T17:10:07.248134Z",
     "start_time": "2025-10-16T17:10:07.245667Z"
    }
   },
   "source": [
    "from jupyterlab.semver import compare\n",
    "\n",
    "diam_cm = float(10 * 2.54)\n",
    "rad_cm = float(diam_cm / 2)\n",
    "square = float(3.14 * rad_cm ** 2)\n",
    "print(square)"
   ],
   "outputs": [
    {
     "name": "stdout",
     "output_type": "stream",
     "text": [
      "506.4506\n"
     ]
    }
   ],
   "execution_count": 4
  },
  {
   "cell_type": "markdown",
   "id": "57f3e625",
   "metadata": {},
   "source": [
    "_A 10 inch pizza costs £10.99. A 12 inch pizza costs £13.99. Which is the best buy in terms of pizza area for your pound? Write a program\n",
    "that prompts for the size and cost, and prints the cost per square cm._\n",
    "\n",
    "_Hint: It is probably easier to work in pence per square cm. Even then, the answers will be small numbers._"
   ]
  },
  {
   "cell_type": "code",
   "id": "4d9bd28a527b9a9d",
   "metadata": {
    "ExecuteTime": {
     "end_time": "2025-10-16T17:33:26.253025Z",
     "start_time": "2025-10-16T17:33:26.249047Z"
    }
   },
   "source": [
    "diam_cm_10 = float(10 * 2.54)\n",
    "rad_cm_10 = float(diam_cm_10 / 2)\n",
    "area_10 = float(3.14 * rad_cm_10 ** 2)\n",
    "price_area_10 = float(10.99 / area_10)\n",
    "print(f'price for one cm^2 in 10 inch pizza is {price_area_10:.2f}p.')\n",
    "\n",
    "diam_cm_12 = float(12 * 2.54)\n",
    "rad_cm_12 = float(diam_cm_12 / 2)\n",
    "area_12 = float(3.14 * rad_cm_12 ** 2)\n",
    "price_area_12 = float(13.99 / area_12)\n",
    "print(f'price for one cm^2 in 12 inch pizza is {price_area_12:.2f}p.')\n",
    "\n",
    "print(\"Don't you worry, they are equal\")\n"
   ],
   "outputs": [
    {
     "name": "stdout",
     "output_type": "stream",
     "text": [
      "price for one cm^2 in 10 inch pizza is 0.02p.\n",
      "price for one cm^2 in 12 inch pizza is 0.02p.\n",
      "Don't you worry, they are equal\n"
     ]
    }
   ],
   "execution_count": 24
  },
  {
   "cell_type": "markdown",
   "id": "174a042c2471267e",
   "metadata": {},
   "source": [
    "_Write a program where your user enters two integers, which represent weight measurements taken on two different days. Output the difference between the two numbers. The difference can obviously not be a negative number!_"
   ]
  },
  {
   "cell_type": "code",
   "id": "981ec7e21bee3d8e",
   "metadata": {
    "ExecuteTime": {
     "end_time": "2025-10-16T17:47:19.636815Z",
     "start_time": "2025-10-16T17:46:58.258999Z"
    }
   },
   "source": [
    "weight_day1 = float(input(\"Enter your weight for 01.01.2025 in kg: \"))\n",
    "weight_day2 = float(input(\"Enter your weight for 30.01.2025 in kg: \"))\n",
    "diff_1 = abs(weight_day1 - weight_day2)\n",
    "\n",
    "print(f\"Congrats, your difference is {diff_1} kg\")\n"
   ],
   "outputs": [
    {
     "name": "stdout",
     "output_type": "stream",
     "text": [
      "Congrats, your difference is 10.5 kg\n"
     ]
    }
   ],
   "execution_count": 30
  },
  {
   "cell_type": "markdown",
   "id": "54aca11b2a1ca851",
   "metadata": {},
   "source": [
    "_The program you just wrote will fail if floating-point numbers are used. This is actually much more likely. Write a version below that\n",
    "works for floating-point values._"
   ]
  },
  {
   "cell_type": "markdown",
   "id": "7527ee71405f4c0c",
   "metadata": {},
   "source": [
    "_Suppose the values in your last program were not weights, but the number of sparrows visiting a bird table on two consecutive days. What would you need to change? Write that program below. (You can only have whole numbers of sparrows, obviously.)_"
   ]
  },
  {
   "cell_type": "code",
   "id": "b8a3ff2be1182eae",
   "metadata": {
    "ExecuteTime": {
     "end_time": "2025-10-16T17:52:20.400220Z",
     "start_time": "2025-10-16T17:52:14.210380Z"
    }
   },
   "source": [
    "bird_day1 = int(input(\"Enter the number of sparrows visiting a bird table on 01.01.2025: \"))\n",
    "bird_day2 = int(input(\"Enter the number of sparrows visiting a bird table on 30.01.2025: \"))\n",
    "diff_1 = abs(bird_day1 - bird_day2)\n",
    "\n",
    "print(f\"your difference of sparrows is {diff_1} \")"
   ],
   "outputs": [
    {
     "name": "stdout",
     "output_type": "stream",
     "text": [
      "your difference of sparrows is 31 \n"
     ]
    }
   ],
   "execution_count": 31
  },
  {
   "cell_type": "markdown",
   "id": "90b31ad18115e0c",
   "metadata": {},
   "source": [
    "_When packing kiwi fruit, the **usual number** to put in a punnet is four. Write a program that prompts for the number of kiwi fruit to be packed, and displays the number of full punnets that will result._\n",
    "\n",
    "_Remember that the number of fruits in a punnet might change, so be sure to make that as easy as possible to change._"
   ]
  },
  {
   "cell_type": "code",
   "id": "b0a78bf1e55158b3",
   "metadata": {
    "ExecuteTime": {
     "end_time": "2025-10-16T19:02:38.987788Z",
     "start_time": "2025-10-16T19:02:34.639573Z"
    }
   },
   "source": [
    "num_of_kiwi = 4\n",
    "total_kiwi = int(input(\"enter the total of kiwi you want to pack: \"))\n",
    "\n",
    "full_punnets = total_kiwi // num_of_kiwi\n",
    "print(f\"You can do {full_punnets} full punnets.\")\n"
   ],
   "outputs": [
    {
     "name": "stdout",
     "output_type": "stream",
     "text": [
      "You can do 3 full punnets.\n"
     ]
    }
   ],
   "execution_count": 32
  },
  {
   "cell_type": "markdown",
   "id": "889f488d",
   "metadata": {},
   "source": [
    "_Peaches, on the other hand, are packed into boxes of 24 fruit. Any remaining after this are packed into smaller punnets of 4. Adapt the program above to handle peaches, and this more complex packing strategy._"
   ]
  },
  {
   "cell_type": "code",
   "id": "ab4e1d8f",
   "metadata": {
    "ExecuteTime": {
     "end_time": "2025-10-16T19:32:09.783385Z",
     "start_time": "2025-10-16T19:32:07.435842Z"
    }
   },
   "source": [
    "num_of_peach_box = 24\n",
    "num_of_peach = 4\n",
    "total_peach = int(input(\"enter the total of peaches you want to pack: \"))\n",
    "\n",
    "full_punnets = total_peach // num_of_peach_box\n",
    "peach_left = total_peach % num_of_peach_box\n",
    "small_punnets = peach_left // num_of_peach\n",
    "print(f\"You can do {full_punnets} boxes.\")\n",
    "print(f\"You can do {small_punnets} punnets.\")\n"
   ],
   "outputs": [
    {
     "name": "stdout",
     "output_type": "stream",
     "text": [
      "You can do 2 boxes.\n",
      "You can do 1  punnets.\n"
     ]
    }
   ],
   "execution_count": 6
  },
  {
   "metadata": {},
   "cell_type": "markdown",
   "source": [
    "_How about a program to check your working? Write a program that prompts for the number of full boxes and full punnets of peaches, and displays how many peaches this is._\n",
    "\n",
    "_Hint: Look at your result. Is it as clear as it could be? Never be afraid to write extra code to \"spell it out\" so that a future programmer can easily understand the code._"
   ],
   "id": "782b39e70f94b232"
  },
  {
   "metadata": {
    "ExecuteTime": {
     "end_time": "2025-10-16T19:43:34.356839Z",
     "start_time": "2025-10-16T19:43:30.004482Z"
    }
   },
   "cell_type": "code",
   "source": [
    "\n",
    "total_box = int(input(\"enter the total of box you have: \"))\n",
    "num_of_peache = int(total_box * 24)\n",
    "total_punnets = int(input(\"enter the total of punnets you have: \"))\n",
    "num_of_peache2 = int(total_punnets * 4)\n",
    "num_of_peache_total = num_of_peache + num_of_peache2\n",
    "print(f\"You have {num_of_peache_total} peaches\")\n"
   ],
   "id": "fbe41b4fe3a5b396",
   "outputs": [
    {
     "name": "stdout",
     "output_type": "stream",
     "text": [
      "You have 100 peaches\n"
     ]
    }
   ],
   "execution_count": 11
  },
  {
   "metadata": {},
   "cell_type": "markdown",
   "source": [
    " _The final program last week ran like this. For a laugh, write a version below that is as obscure as possible. Break the rules. Make\n",
    "is **really** difficult to follow._\n",
    "\n",
    "_A sweet shop sells three types of chocolate: Frodo Bars at 50p, Twux at 75p, and Snookers at 95p. Write a program that asks the user to enter how many of each bar have been purchased, and then prints out the total price._\n",
    "\n",
    "_The price should be displayed in \"pounds and pence\". Asking for, say, \"150p\" makes no sense!_"
   ],
   "id": "b645e9edae0036b5"
  },
  {
   "metadata": {
    "ExecuteTime": {
     "end_time": "2025-08-18T14:51:13.186974Z",
     "start_time": "2025-08-18T14:51:04.416082Z"
    }
   },
   "cell_type": "code",
   "outputs": [],
   "execution_count": null,
   "source": [
    "a = 0.50\n",
    "b = 0.75\n",
    "c = 0.95\n",
    "d = int(input(\"How many frodo bars did you buy: \"))\n",
    "e = int(input(\"How many twux bars did you buy: \"))\n",
    "f = int(input(\"How many snookers did you buy: \"))\n",
    "g = float(d * a + e * b + f * c)\n",
    "print(f'your total is {g:.2f}£')"
   ],
   "id": "9cdc6caf437218c7"
  },
  {
   "metadata": {},
   "cell_type": "markdown",
   "source": [
    "## Reflection\n",
    "\n",
    "Take a look at your last effort, and never, ever do that again!\n"
   ],
   "id": "ad3c6a9c5fb874e5"
  },
  {
   "metadata": {},
   "cell_type": "markdown",
   "source": "All the programs in the \"library\" in your module repo have been formatted using a tool called ``black`` (https://pypi.org/project/black/). Have a read of its docs, and you should see what such things are needed. And take a look at PEP-8 (https://peps.python.org/pep-0008/) too.",
   "id": "d7aaa5764e408697"
  }
 ],
 "metadata": {
  "kernelspec": {
   "display_name": "venv",
   "language": "python",
   "name": "python3"
  },
  "language_info": {
   "codemirror_mode": {
    "name": "ipython",
    "version": 3
   },
   "file_extension": ".py",
   "mimetype": "text/x-python",
   "name": "python",
   "nbconvert_exporter": "python",
   "pygments_lexer": "ipython3",
   "version": "3.13.7"
  }
 },
 "nbformat": 4,
 "nbformat_minor": 5
}
